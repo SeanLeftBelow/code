{
 "cells": [
  {
   "cell_type": "markdown",
   "metadata": {},
   "source": [
    "## Python for Kids Walkthrough"
   ]
  },
  {
   "cell_type": "markdown",
   "metadata": {},
   "source": [
    "Book: https://nostarch.com/pythonforkids"
   ]
  },
  {
   "cell_type": "markdown",
   "metadata": {},
   "source": [
    "### Chapter 3 - Strings, Lists, Tuples, and Maps"
   ]
  },
  {
   "cell_type": "code",
   "execution_count": 1,
   "metadata": {},
   "outputs": [
    {
     "name": "stdout",
     "output_type": "stream",
     "text": [
      "I scored 1000 points\n"
     ]
    }
   ],
   "source": [
    "### Chapter 3 - Strings, Lists, Tuples, and Maps\n",
    "\n",
    "myscore = 1000\n",
    "message = \"I scored %s points\"\n",
    "print (message % myscore)"
   ]
  },
  {
   "cell_type": "code",
   "execution_count": 2,
   "metadata": {},
   "outputs": [
    {
     "name": "stdout",
     "output_type": "stream",
     "text": [
      "What did the number 0 say to the number 8?\n",
      "Nice belt.\n"
     ]
    }
   ],
   "source": [
    "number = 'What did the number %s say to the number %s?'\n",
    "print(number % (0, 8))\n",
    "print(\"Nice belt.\")"
   ]
  },
  {
   "cell_type": "code",
   "execution_count": 3,
   "metadata": {},
   "outputs": [
    {
     "name": "stdout",
     "output_type": "stream",
     "text": [
      "AAH AAH AAH AAH AAH AAH AAH AAH AAH AAH AAH AAH AAH AAH AAH AAH AAH AAH AAH AAH AAH AAH AAH AAH AAH \n"
     ]
    }
   ],
   "source": [
    "print(25 * 'AAH ')"
   ]
  },
  {
   "cell_type": "markdown",
   "metadata": {},
   "source": [
    "#### Lists"
   ]
  },
  {
   "cell_type": "code",
   "execution_count": 4,
   "metadata": {},
   "outputs": [
    {
     "name": "stdout",
     "output_type": "stream",
     "text": [
      "['eye of newt', 'bat wing', 'slug butter']\n",
      "['spider legs', 'toe of frog', 'snail tongue', 'bat wing', 'slug butter', 'snake dandruff']\n",
      "['spider legs', 'toe of frog', 'snail tongue', 'bat wing', 'slug butter', 'snake dandruff', 'bear burp']\n",
      "['spider legs', 'toe of frog', 'bat wing', 'slug butter', 'snake dandruff', 'bear burp']\n"
     ]
    }
   ],
   "source": [
    "wizard_list = ['spider legs', 'toe of frog', 'eye of newt', 'bat wing', 'slug butter', 'snake dandruff']\n",
    "print(wizard_list[2:5])\n",
    "wizard_list[2] = 'snail tongue'\n",
    "print(wizard_list)\n",
    "wizard_list.append('bear burp')\n",
    "print(wizard_list)\n",
    "del wizard_list[2]\n",
    "print(wizard_list)"
   ]
  },
  {
   "cell_type": "markdown",
   "metadata": {},
   "source": [
    "#### Tuples\n",
    "(Lists that cannot be modified)"
   ]
  },
  {
   "cell_type": "code",
   "execution_count": 5,
   "metadata": {},
   "outputs": [
    {
     "name": "stdout",
     "output_type": "stream",
     "text": [
      "2\n"
     ]
    }
   ],
   "source": [
    "fibs = (0,1,1,2,3)\n",
    "print(fibs[3])"
   ]
  },
  {
   "cell_type": "markdown",
   "metadata": {},
   "source": [
    "#### Maps\n",
    "(Also know as dictionaries)"
   ]
  },
  {
   "cell_type": "code",
   "execution_count": 8,
   "metadata": {},
   "outputs": [
    {
     "name": "stdout",
     "output_type": "stream",
     "text": [
      "Black & White\n",
      "{'Devin': 'Green', 'Orion': 'Black & White', 'Sean': 'Orange', 'Murriel': 'Pink'}\n"
     ]
    }
   ],
   "source": [
    "household = {'Sean' : 'Blue',\n",
    "            'Murriel' : 'Pink',\n",
    "            'Devin' : 'Green',\n",
    "            'Orion' : 'Black & White',\n",
    "            'Mr Mouse' : 'Cheese'}\n",
    "print(household['Orion'])\n",
    "del household['Mr Mouse']\n",
    "household['Sean'] = 'Orange'\n",
    "\n",
    "print(household)"
   ]
  },
  {
   "cell_type": "code",
   "execution_count": null,
   "metadata": {},
   "outputs": [],
   "source": [
    "# Example 1\n",
    "hobbies = ['Tech', 'Woodworking','Electronics', 'Beer']\n",
    "foods = ['Pizza', 'Curry', 'Pasta', 'Mexican']\n",
    "life = hobbies + foods\n",
    "print(life)"
   ]
  },
  {
   "cell_type": "code",
   "execution_count": null,
   "metadata": {},
   "outputs": [],
   "source": [
    "# Example 2\n",
    "# 3 buildings, 25 accountants each. 2 tunnels, 40 workers each\n",
    "print((3 * 25)+(2 * 40))"
   ]
  },
  {
   "cell_type": "code",
   "execution_count": null,
   "metadata": {},
   "outputs": [],
   "source": [
    "# Example 3\n",
    "first = \"Sean\"\n",
    "last = \"McCabe\"\n",
    "message = \"Hey there, %s %s\"\n",
    "print(message % (first, last))"
   ]
  },
  {
   "cell_type": "markdown",
   "metadata": {},
   "source": [
    "### Chapter 4 - Turtle\n",
    "(An intro into basic computer graphics)"
   ]
  },
  {
   "cell_type": "code",
   "execution_count": null,
   "metadata": {},
   "outputs": [],
   "source": [
    "import turtle\n",
    "t = turtle.Pen()\n",
    "t.forward(50)\n",
    "t.left(90)\n",
    "t.forward(50)\n",
    "t.left(90)\n",
    "t.forward(50)\n",
    "t.left(90)\n",
    "t.forward(50)\n",
    "t.left(90)\n",
    "\n",
    "t.reset()\n",
    "\n",
    "t.backward(100)\n",
    "t.up()\n",
    "t.right(90)\n",
    "t.forward(20)\n",
    "t.left(90)\n",
    "t.down()\n",
    "t.forward(100)"
   ]
  },
  {
   "cell_type": "markdown",
   "metadata": {},
   "source": [
    "### Chapter 5 - If and Else"
   ]
  },
  {
   "cell_type": "code",
   "execution_count": null,
   "metadata": {},
   "outputs": [],
   "source": [
    "age = 10\n",
    "if age >= 10:\n",
    "    print('You are too old for my jokes.')"
   ]
  },
  {
   "cell_type": "code",
   "execution_count": null,
   "metadata": {},
   "outputs": [],
   "source": [
    "print(\"Want to hear a dirty joke?\")\n",
    "age = 8\n",
    "if age == 12:\n",
    "    print(\"A pig fell in the mud\")\n",
    "else:\n",
    "    print(\"Shh. It's a secret.\")"
   ]
  },
  {
   "cell_type": "code",
   "execution_count": null,
   "metadata": {},
   "outputs": [],
   "source": [
    "age = 0\n",
    "if age == 10:\n",
    "    print(\"Statement 10\")\n",
    "elif age == 11:\n",
    "    print(\"Statement 11\")\n",
    "elif age == 12:\n",
    "    print(\"Statement 12\")\n",
    "elif age == 13:\n",
    "    print(\"Statement 13\")\n",
    "else:\n",
    "    print(\"Nope\")"
   ]
  },
  {
   "cell_type": "code",
   "execution_count": null,
   "metadata": {},
   "outputs": [],
   "source": [
    "age = 12\n",
    "if age == 10 or age == 11 or age == 12 or age == 13:\n",
    "    print(\"You meet the age req.\")\n",
    "else:\n",
    "    print(\"Nope\")"
   ]
  },
  {
   "cell_type": "markdown",
   "metadata": {},
   "source": [
    "#### Variables with the value of None"
   ]
  },
  {
   "cell_type": "code",
   "execution_count": null,
   "metadata": {},
   "outputs": [],
   "source": [
    "myval = None\n",
    "if myval == None:\n",
    "    print(\"The variable myval doesn't have a value\")"
   ]
  },
  {
   "cell_type": "markdown",
   "metadata": {},
   "source": [
    "#### String and Numbers"
   ]
  },
  {
   "cell_type": "code",
   "execution_count": null,
   "metadata": {},
   "outputs": [],
   "source": [
    "age = '10'\n",
    "ageplus = '10.5'\n",
    "converted_age = int(age)\n",
    "converted_ageplus = float(ageplus)\n",
    "if converted_ageplus == 10.5:\n",
    "    print(\"Whats the best way to speak to a monster?\")\n",
    "    print(\"From as far away as possible.\")"
   ]
  },
  {
   "cell_type": "code",
   "execution_count": null,
   "metadata": {},
   "outputs": [],
   "source": [
    "# Exersize 2\n",
    "twinkies = 1\n",
    "if twinkies <= 100:\n",
    "    print(\"Too few twinkies\")\n",
    "elif twinkies >= 100 and twinkies <= 500:\n",
    "    print(\"Too many twinkies\")\n",
    "else:\n",
    "    print(\"What?! How many?\")"
   ]
  },
  {
   "cell_type": "code",
   "execution_count": null,
   "metadata": {},
   "outputs": [],
   "source": [
    "# Exersize 3\n",
    "money = 10100\n",
    "if money >= 100 and money <= 500:\n",
    "    print(\"Between 1 and 5\")\n",
    "elif money >= 100 and money <= 5000:\n",
    "    print(\"Between 10 and 5\")\n",
    "else:\n",
    "    print(\"Not in that range.\")"
   ]
  },
  {
   "cell_type": "markdown",
   "metadata": {},
   "source": [
    "### Chapter 6 - Loops"
   ]
  },
  {
   "cell_type": "code",
   "execution_count": null,
   "metadata": {},
   "outputs": [],
   "source": [
    "for x in range(0, 5):\n",
    "    print('Meow %s' % x)"
   ]
  },
  {
   "cell_type": "code",
   "execution_count": null,
   "metadata": {},
   "outputs": [],
   "source": [
    "print(list(range(10,20)))"
   ]
  },
  {
   "cell_type": "code",
   "execution_count": null,
   "metadata": {},
   "outputs": [],
   "source": [
    "wizard_list = ['spider legs', 'toe of frog', 'eye of newt', 'bat wing', 'slug butter', 'snake dandruff']\n",
    "for i in wizard_list:\n",
    "    print(i)"
   ]
  },
  {
   "cell_type": "code",
   "execution_count": null,
   "metadata": {},
   "outputs": [],
   "source": [
    "colors = ['red','blue','yellow']\n",
    "for c in colors:\n",
    "    print(c)\n",
    "    for o in colors:\n",
    "        print(o)\n",
    "    # 1 then 123\n",
    "    # 2 then 123\n",
    "    # 3 then 123"
   ]
  },
  {
   "cell_type": "code",
   "execution_count": null,
   "metadata": {},
   "outputs": [],
   "source": [
    "found_coins = 20\n",
    "magic_coins = 70\n",
    "stolen_coins = 3\n",
    "coins = found_coins\n",
    "for week in range(40, 53): #Was (1, 53)\n",
    "    coins = coins + magic_coins - stolen_coins\n",
    "    print('Week %s = %s' % (week, coins))"
   ]
  },
  {
   "cell_type": "markdown",
   "metadata": {},
   "source": [
    "#### While Loops"
   ]
  },
  {
   "cell_type": "code",
   "execution_count": null,
   "metadata": {},
   "outputs": [],
   "source": [
    "for step in range(0, 5):\n",
    "    print(step)"
   ]
  },
  {
   "cell_type": "code",
   "execution_count": null,
   "metadata": {},
   "outputs": [],
   "source": [
    "step =0 \n",
    "while step < 10000:\n",
    "    print(step)\n",
    "    if tired == True:\n",
    "        break\n",
    "    elif badweather == True:\n",
    "        break\n",
    "    else: step + 1"
   ]
  },
  {
   "cell_type": "code",
   "execution_count": null,
   "metadata": {},
   "outputs": [],
   "source": []
  }
 ],
 "metadata": {
  "kernelspec": {
   "display_name": "Python 2",
   "language": "python",
   "name": "python2"
  },
  "language_info": {
   "codemirror_mode": {
    "name": "ipython",
    "version": 2
   },
   "file_extension": ".py",
   "mimetype": "text/x-python",
   "name": "python",
   "nbconvert_exporter": "python",
   "pygments_lexer": "ipython2",
   "version": "2.7.14"
  }
 },
 "nbformat": 4,
 "nbformat_minor": 2
}
